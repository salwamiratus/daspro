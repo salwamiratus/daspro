{
 "cells": [
  {
   "cell_type": "markdown",
   "id": "e055ef56",
   "metadata": {},
   "source": [
    "<center>\n",
    "<img src=\"https://cdn.freebiesupply.com/logos/large/2x/python-5-logo-png-transparent.png\" widht=\"200\">\n",
    "</center>\n",
    "<br>\n",
    "<b>Cell</b> di jupyter ada 2 jenis:\n",
    "<ol>\n",
    "    <li>Mark down - (M)</li>\n",
    "    <li>Code - (Y)</li>\n",
    "</ol>\n",
    "<hr>\n"
   ]
  },
  {
   "cell_type": "markdown",
   "id": "d677ab10",
   "metadata": {},
   "source": [
    "Cara menambahkan Cell ada 2:\n",
    "<ul>\n",
    "    <li>A (above) di atas cell</li>\n",
    "    <li>B (below) dibawah cell</li>\n",
    "</ul>\n",
    "<table>\n",
    "    <tr>\n",
    "        <td> NIM </td>\n",
    "        <td> : </td>\n",
    "        <td> 20240040029 </td>\n",
    "    </tr>\n",
    "    <tr>\n",
    "        <td> NAMA </td>\n",
    "        <td> : </td>\n",
    "        <td> Salwa Mir'atus Sholehah </td>\n",
    "    </tr>\n",
    "    <tr>\n",
    "        <td> Kelas </td>\n",
    "        <td> : </td>\n",
    "        <td> TI24G</td>\n",
    "    </tr>\n",
    "  </table>"
   ]
  },
  {
   "cell_type": "code",
   "execution_count": 5,
   "id": "66c97251",
   "metadata": {},
   "outputs": [
    {
     "name": "stdout",
     "output_type": "stream",
     "text": [
      "pyhton is very easy\n",
      "sekarang hari jum'at\n",
      "Deklarasi Variabel \"A\"\n",
      "5\n"
     ]
    },
    {
     "data": {
      "text/plain": [
       "'54'"
      ]
     },
     "execution_count": 5,
     "metadata": {},
     "output_type": "execute_result"
    }
   ],
   "source": [
    "print(\"pyhton is very easy\")\n",
    "print(\"sekarang hari jum'at\")\n",
    "print('Deklarasi Variabel \"A\"')\n",
    "number = \"5\"\n",
    "print (number)\n",
    "int (number) + 10\n",
    "print(number)"
   ]
  }
 ],
 "metadata": {
  "kernelspec": {
   "display_name": "Python 3 (ipykernel)",
   "language": "python",
   "name": "python3"
  },
  "language_info": {
   "codemirror_mode": {
    "name": "ipython",
    "version": 3
   },
   "file_extension": ".py",
   "mimetype": "text/x-python",
   "name": "python",
   "nbconvert_exporter": "python",
   "pygments_lexer": "ipython3",
   "version": "3.9.12"
  }
 },
 "nbformat": 4,
 "nbformat_minor": 5
}
