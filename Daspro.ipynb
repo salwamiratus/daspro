{
 "cells": [
  {
   "cell_type": "code",
   "execution_count": 37,
   "id": "aa6d9e42-c5af-4287-981d-51a2827affbc",
   "metadata": {
    "scrolled": true
   },
   "outputs": [
    {
     "name": "stdout",
     "output_type": "stream",
     "text": [
      "nama : Mato\n",
      "umur : 21\n",
      "alamat : Cibolang 7413412\n",
      "Nilai Pemrograman : 99.0\n",
      "Status Menikah : False\n"
     ]
    }
   ],
   "source": [
    "name = \"Salwa\"\n",
    "age = 19\n",
    "addres,province = \"Cibolang\" , \"7413412\"\n",
    "scorePython = 99.0\n",
    "isMarried = False\n",
    "\n",
    "print (\"nama :\",name)\n",
    "print (\"umur :\",age)\n",
    "print (\"alamat :\",addres,province)\n",
    "print (\"Nilai Pemrograman :\",scorePython)\n",
    "print (\"Status Menikah :\",isMarried)\n",
    "\n",
    "\n",
    "\n"
   ]
  },
  {
   "cell_type": "code",
   "execution_count": 11,
   "id": "0e77c53b-17c5-419d-8049-f847ae7ceaee",
   "metadata": {},
   "outputs": [
    {
     "name": "stdout",
     "output_type": "stream",
     "text": [
      "Tipe Data <name> <class 'str'>\n",
      "Tipe Data <age> <class 'int'>\n",
      "Tipe Data <addres> <class 'str'>\n",
      "Tipe Data <scorePython> <class 'float'>\n",
      "Tipe Data <isMarried> <class 'bool'>\n"
     ]
    }
   ],
   "source": [
    "print(\"Tipe Data <name>\",type(name))\n",
    "print(\"Tipe Data <age>\",type(age))\n",
    "print(\"Tipe Data <addres>\",type(addres))\n",
    "print(\"Tipe Data <scorePython>\",type(scorePython))\n",
    "print(\"Tipe Data <isMarried>\",type(isMarried))"
   ]
  },
  {
   "cell_type": "code",
   "execution_count": 43,
   "id": "7c496983-9d5d-4d4b-b8e8-8a87d031bf3d",
   "metadata": {},
   "outputs": [
    {
     "name": "stdout",
     "output_type": "stream",
     "text": [
      "7413412-7413412.0-True\n",
      "21-21-True\n",
      "99.0-99-True\n",
      "False-0.0-0\n"
     ]
    }
   ],
   "source": [
    "#Casting atau konversi Tipe Data\n",
    "#Konversi dari String ke (int, float, bool)\n",
    "strToInt = int (province)\n",
    "strToFloat = float (province)\n",
    "strToBool = bool(province)\n",
    "print(strToInt,strToFloat,strToBool, sep=\"-\")\n",
    "\n",
    "#Konversi dari Int ke (str,int,bool)\n",
    "intToStr = str(age)\n",
    "intToFloat = str(age)\n",
    "intToBool = bool(age)\n",
    "print(intToStr,intToFloat,intToBool,sep=\"-\")\n",
    "\n",
    "#konversi dari float ke (str,int,bool)\n",
    "floatToStr = str (scorePython)\n",
    "floatToInt = int (scorePython)\n",
    "floatToBool = bool (scorePython)\n",
    "print(floatToStr,floatToInt,floatToBool,sep=\"-\")\n",
    "\n",
    "#konversi dari bool ke (str,int,float)\n",
    "boolToStr = str(isMarried)\n",
    "boolToFloat = float(isMarried)\n",
    "boolToInt = int(isMarried)\n",
    "print(boolToStr,boolToFloat,boolToInt,sep=\"-\")"
   ]
  },
  {
   "cell_type": "code",
   "execution_count": 47,
   "id": "952bd964-105a-417e-b56f-679cb700822f",
   "metadata": {},
   "outputs": [
    {
     "name": "stdout",
     "output_type": "stream",
     "text": [
      "nilai desimal dari : 500\n",
      "nilai biner dari : 10\n",
      "nilai oktal dari : 255\n",
      "nilai hexa dari : 255\n",
      "nilai biner dari : 500 : 0b111110100\n",
      "nilai oktal dari : 500 : 0o764\n",
      "nilai hexa dari : 500 : 0x1f4\n"
     ]
    }
   ],
   "source": [
    "#tipe data basisi bilangan (desimal,biner,oktal,hexa)\n",
    "desimal=500\n",
    "biner=0b1010\n",
    "oktal=0o377\n",
    "hexa=0xff \n",
    "\n",
    "print(\"nilai desimal dari :\",desimal)\n",
    "print(\"nilai biner dari :\",biner)\n",
    "print(\"nilai oktal dari :\",oktal)\n",
    "print(\"nilai hexa dari :\",hexa)\n",
    "\n",
    "print(\"nilai biner dari :\",desimal,\":\",bin(desimal))\n",
    "print(\"nilai oktal dari :\",desimal,\":\",oct(desimal))\n",
    "print(\"nilai hexa dari :\",desimal,\":\",hex(desimal))\n"
   ]
  },
  {
   "cell_type": "code",
   "execution_count": 69,
   "id": "8c4e5608-95b0-4e70-81c9-45be212c54e6",
   "metadata": {},
   "outputs": [
    {
     "name": "stdout",
     "output_type": "stream",
     "text": [
      "['Bandung', 'Sukabumi', 'Bogor', 'Jakarta', 'Medan']\n",
      "Bandung\n",
      "Medan\n",
      "M\n",
      "n\n",
      "('Andi', 'Ferdi', 'Raihan')\n",
      "Ferdi\n",
      "{'name': 'Robi', 'age': 21, 'address': {'street': 'cisaat', 'number': 21, 'province': 'Jawa barat'}, 'isMarried': True, 'hobbies': ['Basket ball', 'Football']}\n",
      "21\n",
      "Jawa barat\n",
      "Basket ball\n"
     ]
    }
   ],
   "source": [
    "#Tipe data collection\n",
    "#List\n",
    "cities = [\"Bandung\",\"Sukabumi\",\"Bogor\",\"Jakarta\",\"Medan\"]\n",
    "lengthCities = len(cities)\n",
    "print(cities)\n",
    "print(cities[0])\n",
    "print(cities[lengthCities-1])\n",
    "print(cities[lengthCities-1] [0])\n",
    "print(cities[lengthCities-1][len(cities[lengthCities-1])-1])\n",
    "cities[0] = \"Bali\"\n",
    "#cities[5] = \"Malang\" akan menyebabkan error out of tuple\n",
    "\n",
    "#Tuple\n",
    "names = (\"Andi\",\"Ferdi\",\"Raihan\")\n",
    "print(names)\n",
    "print (names[1])\n",
    "#Dictionary\n",
    "studentData = {\n",
    "    \"name\" : \"Robi\",\n",
    "    \"age\" : 21,\n",
    "    \"address\" : {\n",
    "        \"street\" : \"cisaat\",\n",
    "        \"number\" : 21,\n",
    "        \"province\" : \"Jawa barat\"\n",
    "    },\n",
    "    \"isMarried\" : True,\n",
    "    \"hobbies\" : [\"Basket ball\",\"Football\"]\n",
    "}\n",
    "\n",
    "print(studentData)\n",
    "print(studentData[\"age\"])\n",
    "print(studentData[\"address\"][\"province\"])\n",
    "print(studentData[\"hobbies\"][0])\n"
   ]
  },
  {
   "cell_type": "code",
   "execution_count": 77,
   "id": "f5a469b7-69be-4886-aade-26a6a785617c",
   "metadata": {},
   "outputs": [
    {
     "name": "stdout",
     "output_type": "stream",
     "text": [
      "{'name': 'Robi', 'age': 25, 'address': {'street': 'Cisaat', 'number': 21, 'province': 'Jawa Barat'}, 'isMarried': True, 'hobbies': ['Basket BAll', 'Football']}\n",
      "{'name': 'Dedi', 'age': 15, 'address': {'street': 'Bogor', 'number': 29, 'province': 'Jawa Barat'}, 'isMarried': False, 'hobbies': ['Chess', 'Singing']}\n",
      "Jawa Barat\n"
     ]
    }
   ],
   "source": [
    "#List Of Dictionary\n",
    "studentList = [\n",
    "    {\n",
    "        \"name\" : \"Robi\",\n",
    "        \"age\" : 25,\n",
    "        \"address\" : {\n",
    "            \"street\" : \"Cisaat\",\n",
    "            \"number\" : 21,\n",
    "            \"province\" : \"Jawa Barat\"\n",
    "        },\n",
    "        \"isMarried\" : True,\n",
    "        \"hobbies\" : [\"Basket BAll\", \"Football\"]\n",
    "    },\n",
    "    {\n",
    "        \"name\" : \"Dedi\",\n",
    "        \"age\" : 15 ,\n",
    "        \"address\" : {\n",
    "            \"street\" : \"Bogor\",\n",
    "            \"number\" : 29,\n",
    "            \"province\" : \"Jawa Barat\"\n",
    "        },\n",
    "        \"isMarried\" : False,\n",
    "        \"hobbies\" : [\"Chess\", \"Singing\"]\n",
    "    }\n",
    "]\n",
    "print (studentList[0])\n",
    "print (studentList[1])\n",
    "print (studentList[1][\"address\"] [\"province\"])\n",
    "\n"
   ]
  },
  {
   "cell_type": "code",
   "execution_count": 87,
   "id": "8d8f16e0-4a75-4471-983e-eef9a7445d1d",
   "metadata": {},
   "outputs": [
    {
     "name": "stdout",
     "output_type": "stream",
     "text": [
      "{'Name': 'Andi', 'Age': 30, 'status': True}\n",
      "{'Name': 'Rudi', 'Address': 'Bogor'}\n",
      "{'Name': 'Tiger', 'Type': 'Mamalia'}\n",
      "{'Name': 'Crocodile', 'Type': 'Retile'}\n",
      "{'Vehicle': 'car', 'Brand': 'BMW', 'cc': 2500}\n"
     ]
    }
   ],
   "source": [
    "#Konversi dictionary\n",
    "list_list = [[\"Name\",\"Andi\"],[\"Age\",30],[\"status\",True]]\n",
    "dictListStudent = dict(list_list)\n",
    "print(dictListStudent)\n",
    "\n",
    "list_tuple = [(\"Name\",\"Rudi\"),(\"Address\",\"Bogor\")]\n",
    "dictTupleStudent = dict(list_tuple)\n",
    "print(dictTupleStudent)\n",
    "\n",
    "tuple_list = [(\"Name\",\"Tiger\"),(\"Type\",\"Mamalia\")]\n",
    "dictListAnimal = dict(tuple_list)\n",
    "print(dictListAnimal)\n",
    "\n",
    "tuple_tuple = [(\"Name\",\"Crocodile\"),(\"Type\",\"Retile\")]\n",
    "dictTupleAnimal = dict(tuple_tuple)\n",
    "print(dictTupleAnimal)\n",
    "\n",
    "keys=[\"Vehicle\",\"Brand\",\"cc\"]\n",
    "values=[\"car\",\"BMW\",2500]\n",
    "car=dict(zip(keys,values))\n",
    "print(car)"
   ]
  }
 ],
 "metadata": {
  "kernelspec": {
   "display_name": "Python [conda env:base] *",
   "language": "python",
   "name": "conda-base-py"
  },
  "language_info": {
   "codemirror_mode": {
    "name": "ipython",
    "version": 3
   },
   "file_extension": ".py",
   "mimetype": "text/x-python",
   "name": "python",
   "nbconvert_exporter": "python",
   "pygments_lexer": "ipython3",
   "version": "3.12.7"
  }
 },
 "nbformat": 4,
 "nbformat_minor": 5
}
